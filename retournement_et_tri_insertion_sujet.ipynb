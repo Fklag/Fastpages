{
  "nbformat": 4,
  "nbformat_minor": 0,
  "metadata": {
    "colab": {
      "name": "retournement et tri insertion_sujet.ipynb",
      "provenance": [],
      "collapsed_sections": [],
      "include_colab_link": true
    },
    "kernelspec": {
      "name": "python3",
      "display_name": "Python 3"
    }
  },
  "cells": [
    {
      "cell_type": "markdown",
      "metadata": {
        "id": "view-in-github",
        "colab_type": "text"
      },
      "source": [
        "<a href=\"https://colab.research.google.com/github/Fklag/Fastpages/blob/master/retournement_et_tri_insertion_sujet.ipynb\" target=\"_parent\"><img src=\"https://colab.research.google.com/assets/colab-badge.svg\" alt=\"Open In Colab\"/></a>"
      ]
    },
    {
      "cell_type": "markdown",
      "metadata": {
        "id": "MKLE814xKXNO"
      },
      "source": [
        "<font color=\"red\" size=\"8\"><center>Première partie : Algorithme de retournement</center></font>"
      ]
    },
    {
      "cell_type": "markdown",
      "metadata": {
        "id": "tePQOQoYvOtX"
      },
      "source": [
        "On veut retourner une liste (c'est à dire ranger ses éléments dans l'ordre inverse) et on va procéder par ajouter successifs (il existe d'autres façons de le faire).\n",
        "\n",
        "# 1) Ecrire un algorithmepour faire cela :\n",
        "\n",
        "Pour commencer nous allons écrire un pseudo-code qui effectue la tâche ainsi :\n",
        "\n",
        "1) retirer un à un chaque éléments de lst en prenant à chaque fois le dernier\n",
        "2) ajouter à chaque fois cet éléments dans lstR\n",
        "\n",
        "on continue tant que lst n'est pas vide.\n",
        "\n",
        "(pour compléter une cellule de texte, double-cliquez dessus) "
      ]
    },
    {
      "cell_type": "markdown",
      "metadata": {
        "id": "x9Fs4cVDvjpV"
      },
      "source": [
        "<b> Le pseudo code à compléter :</b>\n",
        "<pre>\n",
        "fonction retourner(lst) :\n",
        "    Complétez ici\n",
        "</pre>\n"
      ]
    },
    {
      "cell_type": "markdown",
      "metadata": {
        "id": "qcAWmCMN0FNB"
      },
      "source": [
        "\n",
        "Coder ceci en python ne pose pas de grosse difficulté, mais il faut se souvenir de la méthode pop et de son usage….<br>Voici un code qui va te servir d'exemple pour l'exercice.\n",
        "\n",
        "Rappel :"
      ]
    },
    {
      "cell_type": "code",
      "metadata": {
        "id": "bkiyOM_FzvdR"
      },
      "source": [
        "lst = [1,2,3]\n",
        "a = lst.pop()\n",
        "print(a,lst)\n",
        "# a=3 et maintenant lst=[1,2]\n",
        "# lst.pop() retire le dernier élément de la liste lst et renvoie sa valeur."
      ],
      "execution_count": null,
      "outputs": []
    },
    {
      "cell_type": "markdown",
      "metadata": {
        "id": "tB4Rfw7n0dqI"
      },
      "source": [
        "## Le code à completer :\n",
        "\n",
        "Vous ne devez pas utiliser insert dans cet exercice !"
      ]
    },
    {
      "cell_type": "code",
      "metadata": {
        "id": "biDhMPfa0OMx",
        "colab": {
          "base_uri": "https://localhost:8080/"
        },
        "outputId": "af4540b9-d19e-40ac-8e59-932a310ab07c"
      },
      "source": [
        "def reversePOP(lst: list ) -> list :\n",
        "    '''\n",
        "  Entrée : une liste de nombres\n",
        "  Sortie : une nouvelle liste contenant les éléments dans l'ordre inverse\n",
        "  Contrainte de l'exercice : \n",
        "  1) faire une boucle \"Tant que lst non vide\" \n",
        "  2) on retire le dernier élément de lst et on l'ajoute à la fin de la nouvelle liste\n",
        "  '''\n",
        "  # complétez ici\n",
        "\n",
        "\n",
        "\n",
        "lst=[3,1,6,7,2]\n",
        "print(reversePOP(lst))"
      ],
      "execution_count": null,
      "outputs": [
        {
          "output_type": "stream",
          "text": [
            "None\n"
          ],
          "name": "stdout"
        }
      ]
    },
    {
      "cell_type": "markdown",
      "metadata": {
        "id": "gyrypP4g1CXk"
      },
      "source": [
        "# append or not append ?\n",
        "\n",
        "Au lieu de append, on pourrait aussi utiliser une concaténation de liste : \n",
        "\n",
        "**lstR = lstR + [val]** donnera le même résultat que **lstR.append(val)**\n",
        "\n",
        "Essaye les deux façons.\n",
        "\n",
        "**attention** : en réalité ces deux façons de procéder ne sont pas équivalentes. Elle donnent le même résultat et pour cette année nous n'entreront pas dans les détails sur la différence de traitement entre les deux écritures."
      ]
    },
    {
      "cell_type": "markdown",
      "metadata": {
        "id": "4kPnwyRj1K-T"
      },
      "source": [
        "## et si on initialisait la liste lstR avant de commencer ?\n",
        "\n",
        "Nous avons souvent écrit des codes tels que :\n",
        "<pre>\n",
        "somme=0\n",
        "pour i allant de 0 à len(lst) :\n",
        "   somme += lst[i]\n",
        "fin de pour\n",
        "</pre>\n",
        "Dans lesquels nous appliquons la règles des 3I : **I**nitialisation, **I**tération, **I**nstructions.\n",
        "\n",
        "Dans le cas d'une liste nous pouvons aussi **I**nitialiser la liste **et tous les élément de la liste** (quand on connait à l'avance sa longueur).\n",
        "\n",
        "Par exemple :"
      ]
    },
    {
      "cell_type": "code",
      "metadata": {
        "id": "N-e045L2IbG4"
      },
      "source": [
        "# avec l'opérateur * :\n",
        "l = [0] * 5\n",
        "print(l)\n",
        "l = [True ]* 5\n",
        "print(l)\n",
        "\n",
        "# ou encore (mais nous y reviendrons) avec ce que l'on appelle une liste en compréhension :\n",
        "l = [i for i in range(5)]\n",
        "print(l) "
      ],
      "execution_count": null,
      "outputs": []
    },
    {
      "cell_type": "code",
      "metadata": {
        "id": "Iyfxsyby1XDv"
      },
      "source": [
        "# complétez le code, avec une boucle for à la place du tant que, et une liste lstR initialisée avec des 0\n",
        "\n",
        "def reversePOP(lst: list ) -> list :\n",
        "      '''\n",
        "      Entrée : une liste de nombres\n",
        "      Sortie : une nouvelle liste contenant les éléments dans l'ordre inverse\n",
        "      Contrainte de l'exercice : \n",
        "      1) on initialise la nouvelle liste avant la boucle\n",
        "      2) tant que lst n'est pas vide, on prend le dernier de lst et on modifie l'élément de la nouvelle liste\n",
        "      '''\n",
        "\n",
        "      \n",
        "lst=[3,1,6,7,2]\n",
        "print(reversePOP(lst))"
      ],
      "execution_count": null,
      "outputs": []
    },
    {
      "cell_type": "markdown",
      "metadata": {
        "id": "bXunhR-cMCzV"
      },
      "source": [
        "**Et pourrait-on ne pas modifier la liste de départ ?**\n",
        "\n",
        "Dans tout ce qui précède nous avons retiré les éléments de lst pour les ajouter dans lstR, ceci rend le code facile mais la liste lst n'est pas préservée...\n",
        "\n",
        "Il n'y a pas vraiment de raison de faire cela.\n",
        "\n",
        "si on considère une liste de n éléments :\n",
        "\n",
        "En fait :\n",
        "\n",
        "l'élément d'indice **0** de lst doit être copié à l'indice **n-1** de lstR <br>\n",
        "l'élément d'indice **1** de lst doit être copié à l'indice **(n-1) - 1** de lstR<br> \n",
        "l'élément d'indice **2** de lst doit être copié à l'indice **(n-1) - 2** de lstR <br>\n",
        "\n",
        "etc...\n",
        "\n",
        "l'élément d'indice **i** de lst doit être copié à l'indice **(n-1) - i** de lstR<br>\n",
        "et pour finir :<br> \n",
        "l'élément d'indice **n-1** de lst doit être copié à l'indice **(n-1) - (n-1)** de lstR \n",
        "![Sans titre 8.jpg](data:image/jpeg;base64,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)\n"
      ]
    },
    {
      "cell_type": "code",
      "metadata": {
        "id": "wMj9PNtxMcQJ"
      },
      "source": [
        "# par exemple on pourrait donc écrire :\n",
        "\n",
        "def reverse(lst: list ) -> list :\n",
        "      '''\n",
        "      Entrée : une liste de nombres\n",
        "      Sortie : une nouvelle liste contenant les éléments dans l'ordre inverse\n",
        "      Contrainte de l'exercice : \n",
        "      1) on initialise la nouvelle liste à une liste de 0 avant la boucle\n",
        "      2) parcourir (sur les indices) lst de gauche à droite, et modifier l'élément correspondant (caluler l'indice) de la nouvelle liste\n",
        "      '''\n",
        "      lstR=[0] * len(lst) # initialise une liste de même longueur que lst mais contenant des 0\n",
        "      for i in range( len(lst) ) :\n",
        "          lstR[.... COMPLETER ICI ...] = lst[i] # on modifie les valeurs de chaque élément mais il faut calculer la position\n",
        "      return lstR\n",
        "\n",
        "      \n",
        "lst=[3,1,6,7,2]\n",
        "print(reverse(lst))\n",
        "print(lst)"
      ],
      "execution_count": null,
      "outputs": []
    },
    {
      "cell_type": "markdown",
      "metadata": {
        "id": "8L8pgoXATJCM"
      },
      "source": [
        "Et là encore, le résultat est le même mais les opérations réalisées ne sont pas les même en réalités. Et ici aussi nous n'entreront pas cette année dans les détails.\n",
        "\n",
        "Notez ceci: dans le dernier code on à parcouru la liste lst de gauche à droite, on prend d'abord le premier élément de lst et on le met à la fin de lstR.\n",
        "\n",
        "Dans les exercices précédent, avec pop(), nous faisions la même chose mais en prenant le dernier en premier.\n",
        "\n",
        "On pourrait fort bien faire dans l'autre sens :"
      ]
    },
    {
      "cell_type": "code",
      "metadata": {
        "id": "sSTu15TtTVTc"
      },
      "source": [
        "# complète ce code pour faire un parcours de droite à gauche :\n",
        "\n",
        "def reverse(lst: list ) -> list :\n",
        "  '''\n",
        "  Entrée : une liste de nombres\n",
        "  Sortie : une nouvelle liste, trié croissant.\n",
        "  Contrainte de l'exercice : la liste de départ est parcourue de droite à gauche\n",
        "  '''\n",
        "  # complète ici\n",
        "\n",
        "  \n",
        "      \n",
        "lst=[3,1,6,7,2]\n",
        "print(reverse(lst))\n",
        "print(lst)"
      ],
      "execution_count": null,
      "outputs": []
    },
    {
      "cell_type": "markdown",
      "metadata": {
        "id": "8OG5yosrKRwR"
      },
      "source": [
        "\n",
        "\n",
        "**Cela amène une remarque : Par la tête ou par les pieds ?**\n",
        "\n",
        "Nous aurions pu écrire aussi bien cet algorithme :\n",
        "<pre>\n",
        "fonction retourner(lst) :\n",
        "    lstR = [ ]\n",
        "    tant que lst non vide :\n",
        "        retirer (ou prendre) le <b>premier</b> elem de lst et l'ajouter au <b>début</b> de lstR\n",
        "    fin de pour\n",
        "    renvoyer lstR\n",
        "</pre>\n",
        "\n",
        "Tu pourras coder ce second algorithme en utilisant lst.pop(0) qui retire l'élément d'indice 0 et lstR.insert(0,val) qui insère val en tête de liste.\n",
        "\n",
        "On pourrait aussi utiliser une concaténation de liste : lstR = [val] + lstR donnera le même résultat, essaye les deux façons.\n",
        "\n",
        "**Surtout remarque bien :**\n",
        "\n",
        "<pre>ajouter en tête : lst.insert(0,val) ou lst=[val] + lst\n",
        "ajouter en queue : lst.append(val) ou lst=lst+[val]\n",
        "retirer en tête : val = lst.pop(0)\n",
        "retirer en queue :val = lst.pop()\n",
        "</pre>\n",
        "<pre>Rappel :\n",
        "lst = [1,2,3]<br>lst.insert(0,7) -> Maintenant lst vaut [7,1,2,3]\n",
        "</pre>"
      ]
    },
    {
      "cell_type": "code",
      "metadata": {
        "id": "plDglXHiTyq8"
      },
      "source": [
        "# codage en coupant par la tête avec pop(0) et ajoutant en tête avec  insert(0,val) : \n",
        "# on fait ici une boucle tant que la liste de départ n'est pas vide\n",
        "\n",
        "def reverseInsert(lst: list ) -> list :\n",
        "  '''\n",
        "  Entrée : une liste de nombres\n",
        "  Sortie : une nouvelle liste, trié croissant.\n",
        "  Contrainte de l'exercice : 1) boucle tant que lst non vide 2) retirer en tête et ajouter en tête\n",
        "  '''\n",
        "  # complète ici\n",
        "\n",
        "lst=[3,1,6,7,2]\n",
        "print(reverseInsert(lst))"
      ],
      "execution_count": null,
      "outputs": []
    },
    {
      "cell_type": "markdown",
      "metadata": {
        "id": "9hy3in1KUYwz"
      },
      "source": [
        "Ou sans modifier la liste de départ, en lisant lst de gauche à droite :"
      ]
    },
    {
      "cell_type": "code",
      "metadata": {
        "id": "d_9jh-W3K5_b"
      },
      "source": [
        "# codage par la tête et insert(0,val) : \n",
        "# on fait un simple parcours de la liste lst, on insère les éléments dans lstR\n",
        "\n",
        "def reverseInsert(lst: list ) -> list :\n",
        "    '''\n",
        "    Entrée : une liste de nombres\n",
        "    Sortie : une nouvelle liste, trié croissant.\n",
        "    Contrainte de l'exercice : \n",
        "    1) parcours de lst de gauche à droite\n",
        "    2) ne pas retirer un élément, insérer les éléments en tête dans lstR\n",
        "    '''\n",
        "  # complète ici\n",
        "\n",
        "\n",
        "lst=[3,1,6,7,2]\n",
        "print(reverseInsert(lst))"
      ],
      "execution_count": null,
      "outputs": []
    },
    {
      "cell_type": "markdown",
      "metadata": {
        "id": "9u8bZrpxNl_w"
      },
      "source": [
        "Comme vous le constatez, il existe un très grand nombre de façons de procéder...."
      ]
    },
    {
      "cell_type": "markdown",
      "metadata": {
        "id": "q6Xx0Y8aKpQm"
      },
      "source": [
        "<font color=\"blue\" size=\"6\">Complexité de l'algorithme de retournement</font>"
      ]
    },
    {
      "cell_type": "markdown",
      "metadata": {
        "id": "RhQHNRXyU2uZ"
      },
      "source": [
        "Pouvez vous estimer la complexité de cet algorithùe de retournement ? \n",
        "\n",
        "<pre>\n",
        "fonction retourner(lst) :\n",
        "    lstReverse = [ ]\n",
        "    tant que lst non vide :\n",
        "      retirer le dernier elem de lst et l'ajouter à la fin de lstReverse\n",
        "    fin de tant que\n",
        "    renvoyer lstReverse\n",
        "</pre>\n",
        "Combien d'opération pour une liste de longueur N ? \n",
        "<pre>\n",
        "Avant la boucle :  1\n",
        "Dans la boucle : un test, une affectation, un pop(), un append = 4 opérations\n",
        "Après la boucle : rien\n",
        "Total : 4N+1 -> O(N)\n",
        "</pre>\n",
        "\n",
        "Mais tu trouvera plus de détail dans le corrigé..."
      ]
    },
    {
      "cell_type": "markdown",
      "metadata": {
        "id": "HlI9IzqcU8ix"
      },
      "source": [
        "<font color=\"red\" size=\"8\"><center>Deuxième partie : Algorithme de tri</center></font>"
      ]
    },
    {
      "cell_type": "markdown",
      "metadata": {
        "id": "pgy-AdvfWmp1"
      },
      "source": [
        "Vous aller programmer ici une fonction <font color=\"blue\"><b>tri(lst)</b></font> qui va trier une liste. \n",
        "\n",
        "Pour cela nous aurons besoin de rechercher l'indice du min dans lst. Il va donc nous falloir une fonction idxMin(list).\n",
        "\n",
        "Commençons par écrire cette fonction :"
      ]
    },
    {
      "cell_type": "code",
      "metadata": {
        "id": "KjWOO6iQW8XR"
      },
      "source": [
        "# A vous de compléter le code :\n",
        "def idxMin(lst : list) -> int :\n",
        "  '''\n",
        "  Entrée : une liste de nombre (non vide)\n",
        "  Sortie : l'indice du plus petit élément (ou False si la liste en entrée est vide)\n",
        "  '''\n",
        "  # complétez ici\n",
        "\n",
        "\n",
        "assert idxMin([])== False\n",
        "assert idxMin([0,1,2,3])== 0\n",
        "assert idxMin([3,2,1])== 2"
      ],
      "execution_count": null,
      "outputs": []
    },
    {
      "cell_type": "markdown",
      "metadata": {
        "id": "CwG2MXpwYJ6x"
      },
      "source": [
        "Nous allons maintenant utiliser cet algorithme :\n",
        "\n",
        "<pre>fonction triInsertion(lst) :\n",
        "  listTriee=[]\n",
        "  Tant que longueur(lst) &gt; 0 :\n",
        "    rechercher l'indice du min dans lst\n",
        "    retirer cet élément (avec pop) et l'ajouter (en queue) dans listeTrie\n",
        "  fin de tant que\n",
        "  renvoyer listeTriee\n",
        "</pre>"
      ]
    },
    {
      "cell_type": "code",
      "metadata": {
        "id": "JmDbN-34YWYg"
      },
      "source": [
        "def tri(lst: list ) -> list :\n",
        "    ''' \n",
        "    Entrée : une liste de nombre\n",
        "    Sortie : une nouvelle liste contenant les éléments de la liste en entré, triés croissant\n",
        "    Contrainte de l'exercice : \n",
        "    1) on utilise un tant que lst non vide\n",
        "    2) on retire l'élement sélectionné (avec pop ou remove) de lst et on l'ajoute dans lstTriee\n",
        "    '''\n",
        "    # Complétez ici\n",
        "\n",
        "lst=[3,1,6,7,2]\n",
        "print(tri(lst))\n"
      ],
      "execution_count": null,
      "outputs": []
    },
    {
      "cell_type": "markdown",
      "metadata": {
        "id": "720ivcsyZZMw"
      },
      "source": [
        "Dans ce code, que vous venez de faire, on n'a pas vraiment de curseurs (il y en a cependant un, caché dans la fonction idxMin que vous avez utilisé), d'accumulateur, ou de compteur. \n",
        "\n",
        "En effet ici on ne compte rien, on ne somme rien, et on ne localise rien (mais dans idxMin on localise le min avec un curseur).\n",
        "\n",
        "**L'ajout successif d'élément dans une liste est un autre outil indispensable que vous serez souvent amenés à utiliser, mais il sera aussi souvent possible d'initialiser une liste et modifier ensuite ses éléments un à un.**\n",
        "\n",
        "Dans l'exemple ci-dessus, comment feriez vous pour initialiser lstTriee et modifier ses éléments ?"
      ]
    },
    {
      "cell_type": "code",
      "metadata": {
        "id": "jaVEgGOPZkt0"
      },
      "source": [
        "def tri(lst: list ) -> list :\n",
        "    ''' \n",
        "    Entrée : une liste de nombre\n",
        "    Sortie : une nouvelle liste contenant les éléments de la liste en entré, triés croissant\n",
        "    Contrainte de l'exercice :\n",
        "    1) on utilise un parcours (sur les indices) de lst (de gauche à droite), on ne retire pas l'élement de lst\n",
        "    2) lstTriee est initialisée avant la boucle et chaque élément est modifié dans la boucle\n",
        "    '''\n",
        "    #complète ici\n",
        "\n",
        "lst=[3,1,6,7,2]\n",
        "print(tri(lst))\n"
      ],
      "execution_count": null,
      "outputs": []
    },
    {
      "cell_type": "markdown",
      "metadata": {
        "id": "q19IplYAas03"
      },
      "source": [
        "<font color=\"blue\" size=\"6\">Complexité de l'algorithme de tri</font>\n",
        "\n",
        "Estimons la complexité de cet algorithme expérimentalement avec time().</p>"
      ]
    },
    {
      "cell_type": "code",
      "metadata": {
        "id": "ju4GG-_oafD-"
      },
      "source": [
        "from time import time\n",
        "tref=1\n",
        "for N in (10,20,40,80,160,320,640,1280,2560,5120) :\n",
        "    # on fabrique une liste de N éléments triés dans l'ordre inverse :\n",
        "    lst=[i for i in range(N,0,-1)]\n",
        "    # on tri la liste (on répète 10 fois l'opération et on moyenne le temps)\n",
        "    totalTime = 0\n",
        "    for _ in range(10) :\n",
        "      debut=time()\n",
        "      tri(lst)\n",
        "      fin=time()\n",
        "      totalTime += fin-debut\n",
        "    temps=totalTime/10\n",
        "    print('N=',N,'dt= ',temps,' x ',temps/tref)\n",
        "    tref=temps"
      ],
      "execution_count": null,
      "outputs": []
    },
    {
      "cell_type": "code",
      "metadata": {
        "colab": {
          "base_uri": "https://localhost:8080/",
          "height": 265
        },
        "id": "vv6R3289uTdS",
        "outputId": "7310d3b4-24cf-4aad-9180-30c0fef4161c"
      },
      "source": [
        "# pour mieux apprécier les résultats, nous pouvons faire un graphique :\n",
        "def timeTri(N) :\n",
        "    lst=[i for i in range(N,0,-1)]\n",
        "    debut=time()\n",
        "    tri(lst)\n",
        "    fin=time()\n",
        "    return fin-debut\n",
        "\n",
        "\n",
        "abcisse = [10,100,1000,2000,4000,6000,8000,10000]\n",
        "ordonnee = [timeTri(N) for N in abcisse]\n",
        "# plotting curves\n",
        "import matplotlib.pyplot as plt\n",
        "fig = plt.figure()\n",
        "ax = plt.axes()\n",
        "ax.plot(abcisse,ordonnee);\n",
        "ax.plot(abcisse,ordonnee,\"ro\");\n"
      ],
      "execution_count": null,
      "outputs": [
        {
          "output_type": "display_data",
          "data": {
            "image/png": "[encoded data removed]",
            "text/plain": [
              "<Figure size 432x288 with 1 Axes>"
            ]
          },
          "metadata": {
            "tags": [],
            "needs_background": "light"
          }
        }
      ]
    },
    {
      "cell_type": "markdown",
      "metadata": {
        "id": "sDKCo2trtkZs"
      },
      "source": [
        "Au vu des temps enregistrés, et de la courbe :\n",
        "\n",
        "Quelle semble être la complexité ici ?\n",
        "\n"
      ]
    },
    {
      "cell_type": "markdown",
      "metadata": {
        "id": "XffOTtm9u6yK"
      },
      "source": [
        "# <u>Comment **calculer** la complexité ?</u>\n",
        "\n",
        "Revoyons le code :\n",
        "<pre>\n",
        "    lstTriee=[0]*len(lst)\n",
        "    for i in range( len(lst) ) :\n",
        "        idx=idxMin(lst)\n",
        "        e=lst[idx]\n",
        "        lst.remove(e) # on aurait put utilise e = lst.pop(idx)\n",
        "        lstTriee[i] = e\n",
        "    return lstTriee\n",
        "</pre>\n",
        "\n",
        "Combien de fois est exécutée la boucle while ? <br>Combien d'opération sont executées dans cette boucle while ?\n",
        "\n",
        "réponse : \n",
        "\n",
        "C'est un peu plus compliqué que ça n'en à l'air, mais on va y arriver !\n",
        "\n",
        "Avant la boucle, combien d'opérations ?\n",
        "\n",
        "Combien de fois exécute-t-on la boucle ?\n",
        "\n",
        "Dans la boucle, combien dopérations ? C'est là que ça se complique un peu...\n",
        "Car à la première ligne on appelle idxMin.\n",
        "\n",
        "Quelle est la complexité de idxMin(L) ? \n",
        "\n",
        "Quelle est la longueur de la liste passée en argument lors de l'appel de idxMin :<br>\n",
        "lors de la 1ere itération ?<br>\n",
        "lors de la 2ème itération ?<br>\n",
        "lors de la 3ème itération ?<br>\n",
        "...<br>\n",
        "lors de la dernière itération ?\n",
        "\n",
        "Du coup quel est le nombre d'opérations au total ?\n",
        "\n"
      ]
    }
  ]
}