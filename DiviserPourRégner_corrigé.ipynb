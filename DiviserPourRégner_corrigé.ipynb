{
  "nbformat": 4,
  "nbformat_minor": 0,
  "metadata": {
    "colab": {
      "name": "DiviserPourRégner_corrigé.ipynb",
      "provenance": [],
      "collapsed_sections": [],
      "include_colab_link": true
    },
    "kernelspec": {
      "name": "python3",
      "display_name": "Python 3"
    }
  },
  "cells": [
    {
      "cell_type": "markdown",
      "metadata": {
        "id": "view-in-github",
        "colab_type": "text"
      },
      "source": [
        "<a href=\"https://colab.research.google.com/github/Fklag/Fastpages/blob/master/DiviserPourR%C3%A9gner_corrig%C3%A9.ipynb\" target=\"_parent\"><img src=\"https://colab.research.google.com/assets/colab-badge.svg\" alt=\"Open In Colab\"/></a>"
      ]
    },
    {
      "cell_type": "markdown",
      "metadata": {
        "id": "6P6RfgZFjLU4"
      },
      "source": [
        "# **Diviser Pour Régner**"
      ]
    },
    {
      "cell_type": "markdown",
      "metadata": {
        "id": "Uk6itFP1jRx9"
      },
      "source": [
        "## **1. Principes généraux**"
      ]
    },
    {
      "cell_type": "markdown",
      "metadata": {
        "id": "0jVzPH6DGZW9"
      },
      "source": [
        "Vous pouvez revoir la vidéo ici :\n",
        "[Diviser pour régner](https://www.lumni.fr/video/la-methode-laquo-diviser-pour-regner-raquo)"
      ]
    },
    {
      "cell_type": "markdown",
      "metadata": {
        "id": "Eluk9GDOjf5G"
      },
      "source": [
        "La méthode diviser pour régner consiste, pour résoudre un problème de taille N, à :\n",
        "\n",
        "    (Diviser) : partager le problème en sous-problèmes ( de taille N-1, parfois de taille N/2, en tous cas de taille plus petite)\n",
        "\n",
        "    (Régner) : résoudre ces différents sous-problèmes (généralement récursivement)\n",
        "\n",
        "    (Combiner) : fusionner les solutions pour obtenir la solution du problème initial"
      ]
    },
    {
      "cell_type": "markdown",
      "metadata": {
        "id": "ZA-NXaAQjnLX"
      },
      "source": [
        "<font color=\"red\" size=\"8\">**Exemple 1 : Exponentiation rapide**</font>"
      ]
    },
    {
      "cell_type": "markdown",
      "metadata": {
        "id": "ux_JUckTjt-H"
      },
      "source": [
        "<font size=\"6\">**A. Approche récursive classique :** </font>\n",
        "\n",
        "On peut définir $x^n$ de façon récursive :\n",
        "\n",
        "#    $x^0$ = 1\n",
        "\n",
        "#    $x^n$ = $x$ * $x^{n-1}$\n",
        "\n",
        "Ce qui se traduit en Python par cette fonction (à compléter)\n",
        "\n"
      ]
    },
    {
      "cell_type": "code",
      "metadata": {
        "id": "X05YkxQSloPz"
      },
      "source": [
        "def expo_rec(x,n):\n",
        "  if n==0 : return 1\n",
        "  return x * expo_rec(x,n-1)"
      ],
      "execution_count": null,
      "outputs": []
    },
    {
      "cell_type": "code",
      "metadata": {
        "id": "9g4p0wy7WVri"
      },
      "source": [
        "# vérification\n",
        "assert expo_rec(2,0)==1\n",
        "assert expo_rec(2,3)==8\n"
      ],
      "execution_count": null,
      "outputs": []
    },
    {
      "cell_type": "markdown",
      "metadata": {
        "id": "b6GxNiMWle-e"
      },
      "source": [
        "La complexité (en regardant le nombre de multiplications) de cet algorithme est en O(n), il faudra donc faire 100 multiplications pour calculer $x^{100}$ .\n",
        "\n"
      ]
    },
    {
      "cell_type": "markdown",
      "metadata": {
        "id": "vp6Jlvhum1BA"
      },
      "source": [
        "1. Exécutez la fonction ci-dessus. \n",
        "\n",
        "2. Copiez le code dans Python Tutor. Testez pour x=2 et n=50. Vérifiez l'état de la pile d'appels\n",
        "\n",
        "3. A partir de quelle valeur de n dépasse-t-on les capacités de la pile ?\n",
        "\n",
        "On peut mesurer le temps d’exécution en utilisant la fonction magique  %timeit :"
      ]
    },
    {
      "cell_type": "code",
      "metadata": {
        "id": "3zx6HRnemDfY",
        "colab": {
          "base_uri": "https://localhost:8080/"
        },
        "outputId": "beac86f6-8ac6-484a-ccfc-d433152fedf8"
      },
      "source": [
        "def expo_rec(x,n):\n",
        "  if n==0 : return 1\n",
        "  return x * expo_rec(x,n-1)\n",
        "\n",
        "import sys \n",
        "sys.setrecursionlimit(2*10**4) \n",
        "\n",
        "for N in [100,1000,10000] :\n",
        "  %timeit(expo_rec(2,N))"
      ],
      "execution_count": null,
      "outputs": [
        {
          "output_type": "stream",
          "text": [
            "The slowest run took 6.80 times longer than the fastest. This could mean that an intermediate result is being cached.\n",
            "100000 loops, best of 3: 14.1 µs per loop\n",
            "1000 loops, best of 3: 246 µs per loop\n",
            "100 loops, best of 3: 7.01 ms per loop\n"
          ],
          "name": "stdout"
        }
      ]
    },
    {
      "cell_type": "markdown",
      "metadata": {
        "id": "kUVMi2IgeQ3U"
      },
      "source": [
        "Au vu de ces résultats, la complexité vous semble-t-elle linéaire ?"
      ]
    },
    {
      "cell_type": "code",
      "metadata": {
        "colab": {
          "base_uri": "https://localhost:8080/",
          "height": 265
        },
        "id": "kc5xNYwZb2Eh",
        "outputId": "bbfe9cf2-5234-486e-e66a-81e5562f132e"
      },
      "source": [
        "# pour mieux apprécier les résultats, nous pouvons faire un graphique :\n",
        "from time import time\n",
        "def timeExpoRec(N) :\n",
        "    temps=[]\n",
        "    for _ in range(1000) :\n",
        "      debut=time()\n",
        "      expo_rec(2,N)\n",
        "      fin=time()\n",
        "      temps.append(fin-debut)\n",
        "    temps.sort()\n",
        "    return ( temps[-1] + temps[-2] + temps[-3] )/10\n",
        "\n",
        "\n",
        "import sys \n",
        "sys.setrecursionlimit(2*10**4) \n",
        "\n",
        "abcisse = [10,100,1000,2000,3000,4000,5000,6000,10000]\n",
        "ordonne = [timeExpoRec(N) for N in abcisse]\n",
        "# plotting curves\n",
        "import matplotlib.pyplot as plt\n",
        "fig = plt.figure()\n",
        "ax = plt.axes()\n",
        "ax.plot(abcisse,ordonne);\n",
        "ax.plot(abcisse,ordonne,\"ro\");"
      ],
      "execution_count": null,
      "outputs": [
        {
          "output_type": "display_data",
          "data": {
            "image/png": "[encoded data removed]",
            "text/plain": [
              "<Figure size 432x288 with 1 Axes>"
            ]
          },
          "metadata": {
            "tags": [],
            "needs_background": "light"
          }
        }
      ]
    },
    {
      "cell_type": "markdown",
      "metadata": {
        "id": "DTdikAvdevGP"
      },
      "source": [
        "Et maintenant, pensez vous que ce soit linéaire ?"
      ]
    },
    {
      "cell_type": "markdown",
      "metadata": {
        "id": "ruGGRvnCnVIt"
      },
      "source": [
        "<font size=\"6\">**B. Approche diviser pour régner avec des problèmes de taille N/2**</font>"
      ]
    },
    {
      "cell_type": "markdown",
      "metadata": {
        "id": "2svbR0I2neKX"
      },
      "source": [
        "On peut définir xn d'une autre façon :\n",
        "\n",
        "#    $x^0$ = 1\n",
        "\n",
        "#    $x^1$ = x\n",
        "\n",
        "#    Si n est pair : $x^{2n}$ = ($x^{n}$)^2\n",
        "\n",
        "#    Si n est impair : $x^{2n+1}$ = ($x^{2n}$)*x\n",
        "\n",
        "Ce qui se traduit en Python par cette fonction (à compléter) :\n"
      ]
    },
    {
      "cell_type": "code",
      "metadata": {
        "id": "ZtsdQDD0ngVX",
        "colab": {
          "base_uri": "https://localhost:8080/"
        },
        "outputId": "a2cd460d-5641-48d2-9c0a-9c6cd4d74bc8"
      },
      "source": [
        "def expo_dr(x,n):\n",
        "  if n==0 : return 1\n",
        "  if n==1: return x\n",
        "  if n%2==0 :\n",
        "    return expo_dr(x,n//2)**2\n",
        "  else :\n",
        "    return expo_dr(x,n//2)**2*x\n",
        "\n",
        "assert expo_dr(2,100)==2**100\n",
        "assert expo_dr(2,101)==2**101\n",
        "\n",
        "print(expo_dr(2,100))\n"
      ],
      "execution_count": null,
      "outputs": [
        {
          "output_type": "stream",
          "text": [
            "1267650600228229401496703205376\n"
          ],
          "name": "stdout"
        }
      ]
    },
    {
      "cell_type": "markdown",
      "metadata": {
        "id": "8A1mjCCxhCnF"
      },
      "source": [
        "1. Exécutez la fonction ci-dessus. \n",
        "\n",
        "2. Testez pour x=2 et n=8, puis n=128. \n",
        "\n",
        "3. Vérifiez, avec %timeit(), que la différence des temps d’exécutions des deux programmes est évidente pour par exemple le calcul de $2^{500}$\n",
        "\n"
      ]
    },
    {
      "cell_type": "code",
      "metadata": {
        "colab": {
          "base_uri": "https://localhost:8080/"
        },
        "id": "gCK7eLMNfCG2",
        "outputId": "dbefb4c4-d361-4a08-88a3-12f41bf2e16e"
      },
      "source": [
        "%timeit(expo_rec(2,500))\n",
        "%timeit(expo_dr(2,500))"
      ],
      "execution_count": null,
      "outputs": [
        {
          "output_type": "stream",
          "text": [
            "10000 loops, best of 3: 88.6 µs per loop\n",
            "100000 loops, best of 3: 3.7 µs per loop\n"
          ],
          "name": "stdout"
        }
      ]
    },
    {
      "cell_type": "markdown",
      "metadata": {
        "id": "rDRWkNQNfAkp"
      },
      "source": [
        "4. Vérifier également que le second programme permet de calculer $2^{1000}$"
      ]
    },
    {
      "cell_type": "code",
      "metadata": {
        "colab": {
          "base_uri": "https://localhost:8080/"
        },
        "id": "Jy7VS22Cfy6Y",
        "outputId": "5661e72a-2429-4f7e-e0f6-89d060d90259"
      },
      "source": [
        "expo_dr(2,1000)"
      ],
      "execution_count": null,
      "outputs": [
        {
          "output_type": "execute_result",
          "data": {
            "text/plain": [
              "10715086071862673209484250490600018105614048117055336074437503883703510511249361224931983788156958581275946729175531468251871452856923140435984577574698574803934567774824230985421074605062371141877954182153046474983581941267398767559165543946077062914571196477686542167660429831652624386837205668069376"
            ]
          },
          "metadata": {
            "tags": []
          },
          "execution_count": 10
        }
      ]
    },
    {
      "cell_type": "markdown",
      "metadata": {
        "id": "0eiqTodufdbg"
      },
      "source": [
        "Essayons d'estimer la complexité avec %timeit()"
      ]
    },
    {
      "cell_type": "code",
      "metadata": {
        "colab": {
          "base_uri": "https://localhost:8080/"
        },
        "id": "VS5A6EJUbZvZ",
        "outputId": "bdf20bf0-8dcf-4d60-ae9a-9e99c446d040"
      },
      "source": [
        "import sys \n",
        "import timeit\n",
        "\n",
        "for N in [10,100,200,300,400,500,600,700,1000] :\n",
        "  %timeit(expo_dr(2,N))"
      ],
      "execution_count": null,
      "outputs": [
        {
          "output_type": "stream",
          "text": [
            "1000000 loops, best of 3: 1.34 µs per loop\n",
            "100000 loops, best of 3: 2.58 µs per loop\n",
            "100000 loops, best of 3: 3.04 µs per loop\n",
            "100000 loops, best of 3: 3.69 µs per loop\n",
            "100000 loops, best of 3: 3.5 µs per loop\n",
            "100000 loops, best of 3: 3.7 µs per loop\n",
            "100000 loops, best of 3: 4.16 µs per loop\n",
            "100000 loops, best of 3: 4.3 µs per loop\n",
            "100000 loops, best of 3: 4.33 µs per loop\n"
          ],
          "name": "stdout"
        }
      ]
    },
    {
      "cell_type": "markdown",
      "metadata": {
        "id": "wmCOlvw8jLJF"
      },
      "source": [
        "Au vu de ces résultats, pensez vous que la complexité de cet algorithme est linéaire ?"
      ]
    },
    {
      "cell_type": "code",
      "metadata": {
        "colab": {
          "base_uri": "https://localhost:8080/",
          "height": 276
        },
        "id": "W3t_64vogVzQ",
        "outputId": "1ff1a712-4543-4db1-d32d-be0acb3e1903"
      },
      "source": [
        "# pour mieux apprécier les résultats, nous pouvons faire un graphique :\n",
        "from time import time\n",
        "def timeExpoDr(N) :\n",
        "    temps=[]\n",
        "    nb=500000\n",
        "    for _ in range(50000) :\n",
        "      debut=time()\n",
        "      expo_dr(2,N)\n",
        "      fin=time()\n",
        "      temps.append(fin-debut)\n",
        "    temps.sort()\n",
        "    return sum( [temps[i] for i in range(-1*(nb//10),0)] )/(nb//10)\n",
        "\n",
        "\n",
        "import sys \n",
        "sys.setrecursionlimit(2*10**4) \n",
        "\n",
        "abcisse = [10,100,200,300,400,500,600,700,1000]\n",
        "ordonne = [timeExpoDr(N) for N in abcisse]\n",
        "# plotting curves\n",
        "import matplotlib.pyplot as plt\n",
        "fig = plt.figure()\n",
        "ax = plt.axes()\n",
        "ax.plot(abcisse,ordonne);\n",
        "ax.plot(abcisse,ordonne,\"ro\");"
      ],
      "execution_count": null,
      "outputs": [
        {
          "output_type": "display_data",
          "data": {
            "image/png": "[encoded data removed]",
            "text/plain": [
              "<Figure size 432x288 with 1 Axes>"
            ]
          },
          "metadata": {
            "tags": [],
            "needs_background": "light"
          }
        }
      ]
    },
    {
      "cell_type": "markdown",
      "metadata": {
        "id": "2jCtyWIcgVzS"
      },
      "source": [
        "Et maintenant, pensez vous que ce soit linéaire ?"
      ]
    },
    {
      "cell_type": "markdown",
      "metadata": {
        "id": "lp3n5UWHkKtE"
      },
      "source": [
        "En réalité, la complexité ici est en $log_2(N)$, illustrons ceci avec un graphique :"
      ]
    },
    {
      "cell_type": "code",
      "metadata": {
        "colab": {
          "base_uri": "https://localhost:8080/",
          "height": 276
        },
        "id": "51xLDKfAjaze",
        "outputId": "7b0d94ec-c73f-4863-9d0b-2918474e5d29"
      },
      "source": [
        "# pour mieux apprécier les résultats, nous pouvons faire un graphique :\n",
        "from time import time\n",
        "def timeExpoDr(N) :\n",
        "    temps=[]\n",
        "    nb=500000\n",
        "    for _ in range(50000) :\n",
        "      debut=time()\n",
        "      expo_dr(2,N)\n",
        "      fin=time()\n",
        "      temps.append(fin-debut)\n",
        "    temps.sort()\n",
        "    return sum( [temps[i] for i in range(-1*(nb//10),0)] )/(nb//10)\n",
        "\n",
        "from math import log2\n",
        "\n",
        "abcisse = [10,100,200,300,400,500,600,700,1000]\n",
        "ordonne = [timeExpoDr(N) for N in abcisse]\n",
        "k=0.45*10**(-6)\n",
        "log2 = [log2(N)*k for N in abcisse]\n",
        "# plotting curves\n",
        "import matplotlib.pyplot as plt\n",
        "fig = plt.figure()\n",
        "ax = plt.axes()\n",
        "ax.plot(abcisse,ordonne);\n",
        "ax.plot(abcisse,ordonne,\"ro\");\n",
        "ax.plot(abcisse,log2);\n"
      ],
      "execution_count": null,
      "outputs": [
        {
          "output_type": "display_data",
          "data": {
            "image/png": "[encoded data removed]",
            "text/plain": [
              "<Figure size 432x288 with 1 Axes>"
            ]
          },
          "metadata": {
            "tags": [],
            "needs_background": "light"
          }
        }
      ]
    },
    {
      "cell_type": "markdown",
      "metadata": {
        "id": "VC64-ePKg07m"
      },
      "source": [
        "On peut montrer que la complexité (en regardant le nombre de multiplication) de cet algorithme est en O(log2(n)).\n",
        "\n",
        "Nous allons voir cela, mais essayons d'approcher la réponse.\n",
        "\n",
        "**Combien de multplications ferons nous pour évaluer expo_dr(2,128) ?**\n",
        "\n",
        "réponse : 7\n",
        "\n",
        "$2^{128} = (2^{64})^2 = = ((2^{32})^2)^2 = (((2^{16})^2)^2)^2 =  (((2^{8})^2)^2)^2)^2 = ((((2^{4})^2)^2)^2)^2)^2 = (((2^{2})^2)^2)^2)^2)^2$\n",
        "\n",
        "et finalement :\n",
        "$2^{128} = ((((((2^{1})^2)^2)^2)^2)^2)^2)^2$\n",
        "\n",
        "Chaque élévation au carré coute une multiplication. On élève 7 fois au carré, et donc on élève ici à la puissance $2^7$\n",
        "\n",
        "Ceci parce qu'on effectue des divisions successives par 2, d'une part, et que \n",
        "$2^7=128$ \n",
        "\n",
        "Or, $2^7=128$ est equivalent à $log_2(128)=7$ il faudra donc faire 7 multiplications pour calculer $x^{128}$ ."
      ]
    },
    {
      "cell_type": "markdown",
      "metadata": {
        "id": "E0DJIxTToF9g"
      },
      "source": [
        "**ATTENTION**\n",
        "\n",
        "La complexité d'un algorithme est une chose, celle d'un code qui l'implémente en est une autre.\n",
        "\n",
        "Pour de grandes valeurs de N la complexité de l'algorithme est bien $log_2(N)$ mais celle du code devient linéaire :"
      ]
    },
    {
      "cell_type": "code",
      "metadata": {
        "colab": {
          "base_uri": "https://localhost:8080/",
          "height": 265
        },
        "id": "xnwgmNTmoc6V",
        "outputId": "090532f8-db68-441a-f321-a00c1bda0eb9"
      },
      "source": [
        "# pour mieux apprécier les résultats, nous pouvons faire un graphique :\n",
        "from time import time\n",
        "def timeExpoDr(N) :\n",
        "    temps=[]\n",
        "    nb=500000\n",
        "    for _ in range(50000) :\n",
        "      debut=time()\n",
        "      expo_dr(2,N)\n",
        "      fin=time()\n",
        "      temps.append(fin-debut)\n",
        "    temps.sort()\n",
        "    return sum( [temps[i] for i in range(-1*(nb//10),0)] )/(nb//10)\n",
        "\n",
        "from math import log2\n",
        "\n",
        "abcisse = [100,1000,4000,10000,20000,35000,50000]\n",
        "ordonne = [timeExpoDr(N) for N in abcisse]\n",
        "\n",
        "# plotting curves\n",
        "import matplotlib.pyplot as plt\n",
        "fig = plt.figure()\n",
        "ax = plt.axes()\n",
        "ax.plot(abcisse,ordonne);\n",
        "ax.plot(abcisse,ordonne,\"ro\");\n"
      ],
      "execution_count": null,
      "outputs": [
        {
          "output_type": "display_data",
          "data": {
            "image/png": "[encoded data removed]",
            "text/plain": [
              "<Figure size 432x288 with 1 Axes>"
            ]
          },
          "metadata": {
            "tags": [],
            "needs_background": "light"
          }
        }
      ]
    },
    {
      "cell_type": "markdown",
      "metadata": {
        "id": "DdZmTRNMo9KQ"
      },
      "source": [
        "La raison est que les nombres générés sont énormes, et python doit allouer de la mémoire (en quantité importante). Cela nécessite des opérations couteuses en temps."
      ]
    },
    {
      "cell_type": "markdown",
      "metadata": {
        "id": "131BK97colGA"
      },
      "source": [
        "## **2. Vidéo sur les complexités**"
      ]
    },
    {
      "cell_type": "code",
      "metadata": {
        "colab": {
          "base_uri": "https://localhost:8080/",
          "height": 321
        },
        "id": "ZyrjnlAco6V-",
        "outputId": "f9b5d503-f843-4a5e-c55b-282e4f36f48a"
      },
      "source": [
        "# Extrait du film Wargames 1983\n",
        "from IPython.display import YouTubeVideo\n",
        "YouTubeVideo('UcT_4cWfnAs')"
      ],
      "execution_count": null,
      "outputs": [
        {
          "output_type": "execute_result",
          "data": {
            "text/html": [
              "\n",
              "        <iframe\n",
              "            width=\"400\"\n",
              "            height=\"300\"\n",
              "            src=\"https://www.youtube.com/embed/UcT_4cWfnAs\"\n",
              "            frameborder=\"0\"\n",
              "            allowfullscreen\n",
              "        ></iframe>\n",
              "        "
            ],
            "text/plain": [
              "<IPython.lib.display.YouTubeVideo at 0x7f798f618320>"
            ],
            "image/jpeg": "[encoded data removed]"
          },
          "metadata": {
            "tags": []
          },
          "execution_count": 8
        }
      ]
    },
    {
      "cell_type": "markdown",
      "metadata": {
        "id": "h2sAXKiPpLQe"
      },
      "source": [
        "## **3. TD: Recherche d'un élément dans une liste**"
      ]
    },
    {
      "cell_type": "markdown",
      "metadata": {
        "id": "jYbZNFA-pTnA"
      },
      "source": [
        "### 3.1 Recherche d'un élément dans une liste non triée"
      ]
    },
    {
      "cell_type": "markdown",
      "metadata": {
        "id": "86BqimaBpeml"
      },
      "source": [
        "Le problème est de rechercher la présence d’un élément dans une liste.\n",
        "\n",
        "En adoptant le paradigme \"diviser pour régner\", l’idée pour résoudre cette question est de rechercher récursivement l’élément dans la première moitié de la liste et dans la seconde,puis de combiner les résultats via l’opérateur logique **or**.\n",
        "\n",
        "En effet, l’élément recherché sera dans la liste s’il est dans la première moitié ou dans la seconde. La condition d’arrêt à la récursivité sera l’obtention d’une liste à un seul élément,car il est alors immédiat de conclure si l’élément recherché appartient à une telle liste ounon."
      ]
    },
    {
      "cell_type": "markdown",
      "metadata": {
        "id": "6v6-Bw0Zpxel"
      },
      "source": [
        "Voici donc les trois étapes de la résolution de ce problème via la méthode \"diviser pour régner\":\n",
        "\n",
        "• **Diviser la liste en deux sous-listes en la “coupant” par la moitié.**\n",
        "\n",
        "• **Rechercher la présence de l’élément dans chacune de ces sous-listes. Arrêter la récursion lorsque les listes n’ont plus qu’un seul élément.**\n",
        "\n",
        "• **Combiner avec l’opérateur logique <font color=\"blue\">or</font> les résultats obtenus.**"
      ]
    },
    {
      "cell_type": "markdown",
      "metadata": {
        "id": "tcRwW4HAqCQ-"
      },
      "source": [
        "Voici l’algorithme :\n",
        "\n",
        "![image.png](data:image/png;base64,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)\n"
      ]
    },
    {
      "cell_type": "markdown",
      "metadata": {
        "id": "1CAF5-A8qRpB"
      },
      "source": [
        "**Exercice :**\n",
        "\n",
        "Implémenter cet algorithme en Python ci-dessous, et le tester sur la liste suivante :\n",
        "\n",
        "L=[95, 28, 36, 52, 85, 56, 34, 59, 17, 26, 16, 25, 69, 98, 4, 85, 81, 48, 11, 57]"
      ]
    },
    {
      "cell_type": "code",
      "metadata": {
        "id": "Z6YE-vHTqd3X",
        "colab": {
          "base_uri": "https://localhost:8080/"
        },
        "outputId": "c160f142-92ce-4b33-ac6a-006623e6c14a"
      },
      "source": [
        "# version sans slicing \n",
        "\n",
        "def recherche(l,x,d,f):\n",
        "  if f-d==1 : return l[d]==x\n",
        "  return recherche(l,x,d,(f+d)//2) or recherche(l,x,(f+d)//2,f)\n",
        "\n",
        "L=[95, 28, 36, 52, 85, 56, 34, 59, 17, 26, 16, 25, 69, 98, 4, 85, 81, 48, 11, 57]\n",
        "print(recherche(L,28,0,len(L)))\n",
        "print(recherche(L,59,0,len(L)))\n",
        "print(recherche(L,57,0,len(L)))\n",
        "print(recherche(L,95,0,len(L)))\n",
        "print(recherche(L,11,0,len(L)))\n",
        "print(recherche(L,9,0,len(L)))"
      ],
      "execution_count": null,
      "outputs": [
        {
          "output_type": "stream",
          "text": [
            "True\n",
            "True\n",
            "True\n",
            "True\n",
            "True\n",
            "False\n"
          ],
          "name": "stdout"
        }
      ]
    },
    {
      "cell_type": "code",
      "metadata": {
        "colab": {
          "base_uri": "https://localhost:8080/"
        },
        "id": "LdFvFRQXw3Kd",
        "outputId": "86d8de2b-3136-44e6-ceac-f59119684c2f"
      },
      "source": [
        "# version avec slicing (plus simple ?)\n",
        "def rechercheSlice(l,x):\n",
        "  if len(l)==1 : return l[0]==x\n",
        "  return rechercheSlice(l[:len(l)//2],x) or rechercheSlice(l[len(l)//2:],x)\n",
        "\n",
        "L=[95, 28, 36, 52, 85, 56, 34, 59, 17, 26, 16, 25, 69, 98, 4, 85, 81, 48, 11, 57]\n",
        "print(rechercheSlice(L,28))\n",
        "print(rechercheSlice(L,59))\n",
        "print(rechercheSlice(L,57))\n",
        "print(rechercheSlice(L,95))\n",
        "print(rechercheSlice(L,11))\n",
        "print(rechercheSlice(L,9))"
      ],
      "execution_count": null,
      "outputs": [
        {
          "output_type": "stream",
          "text": [
            "True\n",
            "True\n",
            "True\n",
            "True\n",
            "True\n",
            "False\n"
          ],
          "name": "stdout"
        }
      ]
    },
    {
      "cell_type": "code",
      "metadata": {
        "colab": {
          "base_uri": "https://localhost:8080/"
        },
        "id": "SKbUygFNrH4r",
        "outputId": "ae785d55-9727-4612-9e01-3c2283ed2279"
      },
      "source": [
        "# comparaison avec et sans slices :\n",
        "for N in [100,1000,10000] :\n",
        "  print('N=',N)\n",
        "  L=[i for i in range(N)]\n",
        "  %timeit(recherche(L,-1,0,len(L)))\n",
        "  %timeit(rechercheSlice(L,-1))"
      ],
      "execution_count": null,
      "outputs": [
        {
          "output_type": "stream",
          "text": [
            "N= 100\n",
            "10000 loops, best of 3: 33.5 µs per loop\n",
            "10000 loops, best of 3: 57.9 µs per loop\n",
            "N= 1000\n",
            "1000 loops, best of 3: 367 µs per loop\n",
            "1000 loops, best of 3: 597 µs per loop\n",
            "N= 10000\n",
            "100 loops, best of 3: 4.04 ms per loop\n",
            "100 loops, best of 3: 6.1 ms per loop\n"
          ],
          "name": "stdout"
        }
      ]
    },
    {
      "cell_type": "markdown",
      "metadata": {
        "id": "wbl6cz6dsAWo"
      },
      "source": [
        "Les deux versions semblent linéaires.... la version utilisant les slices est plus couteuse."
      ]
    },
    {
      "cell_type": "code",
      "metadata": {
        "colab": {
          "base_uri": "https://localhost:8080/",
          "height": 269
        },
        "id": "17pThhKJsLnk",
        "outputId": "ebabf66e-bde6-45eb-9050-4c4cdf829766"
      },
      "source": [
        "# pour mieux apprécier les résultats, nous pouvons faire un graphique :\n",
        "from time import time\n",
        "def timeRecherche(N) :\n",
        "    temps=[]\n",
        "    nb=200\n",
        "    for _ in range(nb) :\n",
        "      L=[i for i in range(N)]\n",
        "      debut=time()\n",
        "      recherche(L,-1,0,len(L))\n",
        "      fin=time()\n",
        "      temps.append(fin-debut)\n",
        "    temps.sort()\n",
        "    return sum( [temps[i] for i in range(-1*(nb//4),0)] )/(nb//4)\n",
        "\n",
        "def timeRechercheSlice(N) :\n",
        "    temps=[]\n",
        "    nb=200\n",
        "    for _ in range(nb) :\n",
        "      L=[i for i in range(N)]\n",
        "      debut=time()\n",
        "      rechercheSlice(L,-1)\n",
        "      fin=time()\n",
        "      temps.append(fin-debut)\n",
        "    temps.sort()\n",
        "    return sum( [temps[i] for i in range(-1*(nb//4),0)] )/(nb//4)\n",
        "from math import log2\n",
        "\n",
        "abcisse = [1000,4000,10000,20000,30000,40000]\n",
        "ordonne = [timeRecherche(N) for N in abcisse]\n",
        "ordonneS = [timeRechercheSlice(N) for N in abcisse]\n",
        "k=0.43*10**(-6)\n",
        "line = [i*k for i in abcisse]\n",
        "# plotting curves\n",
        "import matplotlib.pyplot as plt\n",
        "fig = plt.figure()\n",
        "ax = plt.axes()\n",
        "ax.plot(abcisse,ordonne);\n",
        "ax.plot(abcisse,ordonne,\"bo\");\n",
        "ax.plot(abcisse,ordonneS);\n",
        "ax.plot(abcisse,ordonneS,\"ro\");\n",
        "ax.plot(abcisse,line);"
      ],
      "execution_count": null,
      "outputs": [
        {
          "output_type": "display_data",
          "data": {
            "image/png": "[encoded data removed]",
            "text/plain": [
              "<Figure size 432x288 with 1 Axes>"
            ]
          },
          "metadata": {
            "tags": [],
            "needs_background": "light"
          }
        }
      ]
    },
    {
      "cell_type": "markdown",
      "metadata": {
        "id": "eDEahEFYsKrk"
      },
      "source": [
        "Dans les 2 cas, la complexité est linéaire, mais notez quand même la moindre performance avec l'utilisation des slices"
      ]
    },
    {
      "cell_type": "markdown",
      "metadata": {
        "id": "Ffht30EVsJ31"
      },
      "source": [
        "### 3.2 Recherche d'un élément dans une liste triée"
      ]
    },
    {
      "cell_type": "markdown",
      "metadata": {
        "id": "8Ity1AFXsVGN"
      },
      "source": [
        "Le problème est de rechercher la présence d’un élément dans une liste préalablement triée.\n",
        "\n",
        "L’idée pour résoudre cette question est d’utiliser une méthode **dichotomique** (vue l'année dernière en classe de première).La liste étant triée, après comparaison avec l’élément du \"milieu\" il est en effet facile de voir dans quelle moitié peut éventuellement se trouver l’élément cherché. On aura plus alors qu’à recommencer récursivement la recherche.\n",
        "\n",
        "Le terme dichotomie provient du grec ancien \"**dikhotomia**\", signifiant \"division en deux parties\".\n",
        "\n",
        "Voici donc les trois étapes de la résolution de ce problème via la méthode \"diviser pour régner\".\n",
        "\n",
        "• **Diviser la liste en deux sous-listes en la “coupant” par la moitié.**\n",
        "\n",
        "• **Rechercher récursivement la présence de l’élément recherché dans la “bonne” des deux sous-listes après l’avoir comparé à l’élément situé au milieu de la liste.**\n",
        "\n",
        "• **Pas de résultats à combiner puisque l’on ne “travaille” que sur l’une des deux sous-listes.**"
      ]
    },
    {
      "cell_type": "markdown",
      "metadata": {
        "id": "hs6nHekUtk4W"
      },
      "source": [
        "**Exercice:**\n",
        "Codez ci-dessous cette fonction de recherche dichotomique, et testez là sur la même liste que l'exercice précédent"
      ]
    },
    {
      "cell_type": "code",
      "metadata": {
        "colab": {
          "base_uri": "https://localhost:8080/"
        },
        "id": "EwBsTjsUyjYQ",
        "outputId": "50d1c6b7-5f67-4bb2-8b8b-72b6f3eef829"
      },
      "source": [
        "# version sans slicing \n",
        "def dicho(l,x,a,b):\n",
        "  if a==b : return False\n",
        "  m=(b+a)//2\n",
        "  if l[m] == x : return True\n",
        "  elif l[m]>x : return dicho(l,x,a,m)\n",
        "  else : return dicho(l,x,m,b)\n",
        "\n",
        "L=[i for i in range(100)]\n",
        "print(dicho(L,0,0,len(L)))\n",
        "print(dicho(L,59,0,len(L)))\n",
        "print(dicho(L,57,0,len(L)))\n",
        "print(dicho(L,95,0,len(L)))\n",
        "print(dicho(L,11,0,len(L)))\n",
        "print(dicho(L,-9,0,len(L)))"
      ],
      "execution_count": null,
      "outputs": [
        {
          "output_type": "stream",
          "text": [
            "True\n",
            "True\n",
            "True\n",
            "True\n",
            "True\n",
            "False\n"
          ],
          "name": "stdout"
        }
      ]
    },
    {
      "cell_type": "code",
      "metadata": {
        "id": "DuL3POR2tQ--",
        "colab": {
          "base_uri": "https://localhost:8080/"
        },
        "outputId": "76270ce1-9f41-4783-b379-9813c8288c80"
      },
      "source": [
        "# version avec slicing \n",
        "def dichoSlice(l,x):\n",
        "  if len(l)==1 : return l[0]==x\n",
        "  m=len(l)//2\n",
        "  if l[m] == x : return True\n",
        "  elif l[m]>x : return dichoSlice(l[:len(l)//2],x)\n",
        "  else : return dichoSlice(l[len(l)//2:],x)\n",
        "\n",
        "L=[i for i in range(100)]\n",
        "print(rechercheSlice(L,28))\n",
        "print(rechercheSlice(L,59))\n",
        "print(rechercheSlice(L,57))\n",
        "print(rechercheSlice(L,95))\n",
        "print(rechercheSlice(L,11))\n",
        "print(rechercheSlice(L,-9))"
      ],
      "execution_count": null,
      "outputs": [
        {
          "output_type": "stream",
          "text": [
            "True\n",
            "True\n",
            "True\n",
            "True\n",
            "True\n",
            "False\n"
          ],
          "name": "stdout"
        }
      ]
    },
    {
      "cell_type": "code",
      "metadata": {
        "colab": {
          "base_uri": "https://localhost:8080/",
          "height": 289
        },
        "id": "EWfcKxWnuy0M",
        "outputId": "7c03c963-532d-48e2-c849-aca5f65ff25e"
      },
      "source": [
        "# Observons la complexité expérimentale avec graphique :\n",
        "from time import time\n",
        "def timeDicho(N) :\n",
        "    temps=[]\n",
        "    nb=200\n",
        "    for _ in range(nb) :\n",
        "      L=[i for i in range(N)]\n",
        "      debut=time()\n",
        "      dicho(L,-1,0,N)\n",
        "      fin=time()\n",
        "      temps.append(fin-debut)\n",
        "    temps.sort()\n",
        "    return sum( [temps[i] for i in range(-1*(nb//4),0)] )/(nb//4)\n",
        "\n",
        "from math import log2\n",
        "\n",
        "abcisse = [50000,100000,300000,500000,800000,1000000]\n",
        "ordonne = [timeDicho(N) for N in abcisse]\n",
        "k=1.6*10**(-6)\n",
        "log2 = [log2(N)*k for N in abcisse]\n",
        "# plotting curves\n",
        "import matplotlib.pyplot as plt\n",
        "fig = plt.figure()\n",
        "ax = plt.axes()\n",
        "ax.plot(abcisse,ordonne);\n",
        "ax.plot(abcisse,ordonne,\"ro\");\n",
        "ax.plot(abcisse,log2);"
      ],
      "execution_count": null,
      "outputs": [
        {
          "output_type": "display_data",
          "data": {
            "image/png": "[encoded data removed]",
            "text/plain": [
              "<Figure size 432x288 with 1 Axes>"
            ]
          },
          "metadata": {
            "tags": [],
            "needs_background": "light"
          }
        }
      ]
    },
    {
      "cell_type": "markdown",
      "metadata": {
        "id": "3_zVicmVP_8b"
      },
      "source": [
        "Nous avions déjà étudié cet algorithme en première.\n",
        "\n",
        "Pour une liste de longueur N, dans le pire des cas (cas ou la veleur cherchée n'est pas dans la liste) on divisera en 2 jusqu'à obtenir des liste de 1 élément.\n",
        "\n",
        "Le nombre de division est le plus petit entier n tel que $2^n > N$\n",
        "\n",
        "Par exemple si N=128 on coupera 7 fois le problème, mais ici on ne traitera à chaque fois qu'un seul sous problème.\n",
        "\n",
        "La complexité est donc en $O( log_2(N) )$ et c'est bien ce qui est observé expérimentalement.\n",
        "\n",
        "On peut comparer les versions avec et sans slices :"
      ]
    },
    {
      "cell_type": "code",
      "metadata": {
        "colab": {
          "base_uri": "https://localhost:8080/",
          "height": 278
        },
        "id": "Auapcby9RHTV",
        "outputId": "2c7b21ef-0b8d-44ee-f756-07e60ce6f3ed"
      },
      "source": [
        "# Comparaisons de la dichotomie versions avec ou sans slices :\n",
        "from time import time\n",
        "def timeDicho(N) :\n",
        "    temps=[]\n",
        "    nb=200\n",
        "    for _ in range(nb) :\n",
        "      L=[i for i in range(N)]\n",
        "      debut=time()\n",
        "      dicho(L,-1,0,N)\n",
        "      fin=time()\n",
        "      temps.append(fin-debut)\n",
        "    temps.sort()\n",
        "    return sum( [temps[i] for i in range(-1*(nb//4),0)] )/(nb//4)\n",
        "\n",
        "def timeDichoSlices(N) :\n",
        "    temps=[]\n",
        "    nb=200\n",
        "    for _ in range(nb) :\n",
        "      L=[i for i in range(N)]\n",
        "      debut=time()\n",
        "      dichoSlice(L,-1)\n",
        "      fin=time()\n",
        "      temps.append(fin-debut)\n",
        "    temps.sort()\n",
        "    return sum( [temps[i] for i in range(-1*(nb//4),0)] )/(nb//4)\n",
        "from math import log2\n",
        "\n",
        "abcisse = [50000,100000,300000,500000,800000,1000000]\n",
        "ordonne = [timeDicho(N) for N in abcisse]\n",
        "ordonneS = [timeDichoSlices(N) for N in abcisse]\n",
        "k=1.6*10**(-6)\n",
        "log2 = [log2(N)*k for N in abcisse]\n",
        "# plotting curves\n",
        "import matplotlib.pyplot as plt\n",
        "fig = plt.figure()\n",
        "ax = plt.axes()\n",
        "ax.plot(abcisse,ordonne);\n",
        "ax.plot(abcisse,ordonne,\"o\");\n",
        "ax.plot(abcisse,ordonneS);\n",
        "ax.plot(abcisse,ordonneS,\"ro\");\n",
        "ax.plot(abcisse,log2);"
      ],
      "execution_count": null,
      "outputs": [
        {
          "output_type": "display_data",
          "data": {
            "image/png": "[encoded data removed]",
            "text/plain": [
              "<Figure size 432x288 with 1 Axes>"
            ]
          },
          "metadata": {
            "tags": [],
            "needs_background": "light"
          }
        }
      ]
    },
    {
      "cell_type": "markdown",
      "metadata": {
        "id": "uvZ8lzzSSCLp"
      },
      "source": [
        "C'est la catastrophe !!!\n",
        "\n",
        "L'utilisation des slices ici induits de nombreuses copies de listes, qui réduisent nos efforts à néant ! la complexité est linéaire, comme une simple recherche en parcouran la liste complètement."
      ]
    },
    {
      "cell_type": "markdown",
      "metadata": {
        "id": "oa87XusQuXH2"
      },
      "source": [
        "### 3.3 Recherche du maximum dans une liste"
      ]
    },
    {
      "cell_type": "markdown",
      "metadata": {
        "id": "hKnyloaXugCF"
      },
      "source": [
        "Le problème est de rechercher le maximum d’une liste de nombres.\n",
        "\n",
        "En adoptant le paradigme \"diviser pour régner\", l’idée pour résoudre cette question est de rechercher récursivementle maximum de la première moitié de la liste et celui de la seconde, puis de les comparer. Le plus grand des deux sera le maximum de toute la liste. \n",
        "\n",
        "La condition d’arrêt à la récursivité sera l’obtention d’une liste à un seul élément, son maximum étant bien sûr la valeur de cet élément.\n",
        "\n",
        "Voici donc les trois étapes de la résolution de ce problème via la méthode \"diviser pourrégner\":\n",
        "\n",
        "• **Diviser la liste en deux sous-listes en la “coupant” par la moitié.**\n",
        "\n",
        "• **Rechercher récursivementle maximum de chacune de ces sous-listes. Arrêter la récursion lorsque les listes n’ont plus qu’un seul élément.**\n",
        "\n",
        "• **Retourner le plus grand des deux maximums précédents.**"
      ]
    },
    {
      "cell_type": "markdown",
      "metadata": {
        "id": "g6I-LI_ouy4u"
      },
      "source": [
        "**Exercice:**\n",
        "Codez ci-dessous cette fonction du maximum dans une liste, et testez là sur la même liste que l'exercice précédent (elle devra renvoyer 98)"
      ]
    },
    {
      "cell_type": "markdown",
      "metadata": {
        "id": "Wcn9EB6RLdrT"
      },
      "source": [
        "---\n",
        "Auteur : François Hallé et Jean-Louis Thirot - Lycée Bertrand d'Argentré, Vitré\n",
        "\n",
        "Sources :  [Cours de NSI - lycée de Draguignan](https://isn-icn-ljm.pagesperso-orange.fr/NSI-TLE/co/section_chapitre6.html)\n",
        "\n",
        "Ce document est publié sous license \n",
        "[CC BY-NC-SA](https://creativecommons.org/licenses/by-nc-sa/4.0/)\n",
        "\n",
        "---"
      ]
    }
  ]
}